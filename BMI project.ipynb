{
 "cells": [
  {
   "cell_type": "markdown",
   "id": "fced6e13",
   "metadata": {},
   "source": [
    "# BMI Project in pounds and kilograms "
   ]
  },
  {
   "cell_type": "markdown",
   "id": "e9ee5853",
   "metadata": {},
   "source": [
    "-------------------------------------------------------------------------------------------"
   ]
  },
  {
   "cell_type": "markdown",
   "id": "5c6e3468",
   "metadata": {},
   "source": [
    "1) BMI in Pounds :-"
   ]
  },
  {
   "cell_type": "code",
   "execution_count": null,
   "id": "384f223e",
   "metadata": {},
   "outputs": [],
   "source": []
  },
  {
   "cell_type": "code",
   "execution_count": 4,
   "id": "52268e77",
   "metadata": {
    "scrolled": true
   },
   "outputs": [
    {
     "name": "stdout",
     "output_type": "stream",
     "text": [
      "Enter your name: Nerd\n",
      "Enter your weight in pounds: 200\n",
      "Enter your height in inches: 50\n",
      "56.24\n",
      "Nerd,you are morbily obese. Loose your fat early :)\n"
     ]
    }
   ],
   "source": [
    "name = input(\"Enter your name: \")\n",
    "\n",
    "weight = int(input(\"Enter your weight in pounds: \"))\n",
    "\n",
    "height = int(input(\"Enter your height in inches: \"))\n",
    "\n",
    "BMI = (weight * 703) / (height * height )\n",
    "\n",
    "print(BMI)\n",
    "\n",
    "if BMI>0:\n",
    "    if(BMI<18.5):\n",
    "        print(name + \",you are underweight. Should maintain fat gaining diet.\")\n",
    "    elif(BMI<=24.9):\n",
    "        print(name + \",you are normal weight.\")\n",
    "    elif(BMI<29.9):\n",
    "        print(name + \",you are overweight.You need exercise.\")\n",
    "    elif(BMI<34.9):\n",
    "        print(name + \",you are obese.Just run for your health.\")\n",
    "    elif(BMI<39.9):\n",
    "        print(name + \",you are severly obese. Eat less workout more.\")\n",
    "    else:\n",
    "        print(name + \",you are morbily obese. Loose your fat early :)\")\n",
    "else:\n",
    "    print(\"Error: Check your input something gone wrong.\")"
   ]
  },
  {
   "cell_type": "markdown",
   "id": "4d155ddf",
   "metadata": {},
   "source": [
    "---------------------------------------------------------------------------------------"
   ]
  },
  {
   "cell_type": "markdown",
   "id": "a8240b83",
   "metadata": {},
   "source": [
    "2) BMI in Kilograms:-"
   ]
  },
  {
   "cell_type": "code",
   "execution_count": null,
   "id": "f5bacb8f",
   "metadata": {},
   "outputs": [],
   "source": []
  },
  {
   "cell_type": "code",
   "execution_count": 7,
   "id": "78149665",
   "metadata": {
    "scrolled": true
   },
   "outputs": [
    {
     "name": "stdout",
     "output_type": "stream",
     "text": [
      "Enter your weight in kilograms: 80\n",
      "Enter your height in meters: 1.8\n",
      "Your BMI is: 24.691358024691358\n",
      "You are of normal weight.\n"
     ]
    }
   ],
   "source": [
    "weight_kg = int(input(\"Enter your weight in kilograms: \"))\n",
    "height_m = float(input(\"Enter your height in meters: \"))\n",
    "\n",
    "bmi = weight_kg / (height_m ** 2)\n",
    "\n",
    "print(\"Your BMI is:\", bmi)\n",
    "\n",
    "if bmi < 18.5:\n",
    "    print(\"You are underweight.\")\n",
    "elif 18.5 <= bmi < 25:\n",
    "    print(\"You are of normal weight.\")\n",
    "elif 25 <= bmi < 30:\n",
    "    print(\"You are overweight.\")\n",
    "else:\n",
    "    print(\"You are obese.\")\n"
   ]
  },
  {
   "cell_type": "code",
   "execution_count": null,
   "id": "d6fb32d1",
   "metadata": {},
   "outputs": [],
   "source": []
  },
  {
   "cell_type": "markdown",
   "id": "451dbf0d",
   "metadata": {},
   "source": [
    "                        Thank You For Reviewing :) Keep Coding\n",
    " ---------------------------------------------------------------------------------------------------                                                                           \n",
    "                                                                                - Iliyas Shaikh "
   ]
  }
 ],
 "metadata": {
  "kernelspec": {
   "display_name": "Python 3 (ipykernel)",
   "language": "python",
   "name": "python3"
  },
  "language_info": {
   "codemirror_mode": {
    "name": "ipython",
    "version": 3
   },
   "file_extension": ".py",
   "mimetype": "text/x-python",
   "name": "python",
   "nbconvert_exporter": "python",
   "pygments_lexer": "ipython3",
   "version": "3.10.9"
  }
 },
 "nbformat": 4,
 "nbformat_minor": 5
}
